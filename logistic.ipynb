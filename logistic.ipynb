{
 "cells": [
  {
   "cell_type": "code",
   "execution_count": 1,
   "metadata": {},
   "outputs": [
    {
     "data": {
      "text/plain": [
       "Index(['Subjectnumber', 'ST-score', 'S_RT', 'S_MD', 'S_AUC', 'S_MD_time',\n",
       "       'S_velX', 'S_velY', 'KT-score', 'K_RT', 'K_MD', 'K_AUC', 'K_MD_time',\n",
       "       'K_velX', 'K_velY', 'LT-score', 'L_RT', 'L_MD', 'L_AUC', 'L_MD_time',\n",
       "       'L_velX', 'L_velY', 'VRT-score', 'VR_RT', 'VR_MD', 'VR_AUC',\n",
       "       'VR_MD_time', 'VR_velX', 'VR_velY', 'TimePressure', 'Instructions'],\n",
       "      dtype='object')"
      ]
     },
     "execution_count": 1,
     "metadata": {},
     "output_type": "execute_result"
    }
   ],
   "source": [
    "import pandas as pd\n",
    "\n",
    "df = pd.read_excel(\"C:\\\\Users\\\\user\\\\Desktop\\\\논문\\\\key paper\\\\mouseTracker_data\\\\Dataset.xlsx\")\n",
    "df.columns = df.columns.str.replace(' ', '')\n",
    "df = df.replace(['faker','honest'], ['1','2'])\n",
    "df.columns"
   ]
  },
  {
   "cell_type": "code",
   "execution_count": 2,
   "metadata": {},
   "outputs": [],
   "source": [
    "df_log = df[['Instructions','ST-score', 'S_RT','KT-score', 'K_RT','LT-score', 'L_RT','VRT-score', 'VR_RT']]"
   ]
  },
  {
   "cell_type": "code",
   "execution_count": 3,
   "metadata": {},
   "outputs": [
    {
     "name": "stdout",
     "output_type": "stream",
     "text": [
      "0.796875\n",
      "0.8541666666666666\n",
      "[[23  2]\n",
      " [ 5 18]]\n",
      "훈련 ROC AUC Score:  0.7967986977753663\n",
      "테스트 ROC AUC Score:  0.8513043478260869\n"
     ]
    }
   ],
   "source": [
    "from sklearn.model_selection import train_test_split\n",
    "from sklearn.linear_model import LogisticRegression\n",
    "X = df_log[['ST-score', 'S_RT','KT-score', 'K_RT','LT-score', 'L_RT','VRT-score', 'VR_RT']]\n",
    "y = df_log['Instructions'].astype(int)\n",
    "\n",
    "X_train, X_test, y_train, y_test = train_test_split(X, y, test_size=0.2, random_state=42)\n",
    "\n",
    "from sklearn.preprocessing import StandardScaler\n",
    "sc = StandardScaler()\n",
    "sc.fit(X_train)\n",
    "X_train_std = sc.transform(X_train)\n",
    "X_test_std = sc.transform(X_test)\n",
    "\n",
    "# 로지스틱 회귀 모델 생성\n",
    "Logit = LogisticRegression(C=200, random_state=42)\n",
    "Logit.fit(X_train_std, y_train)\n",
    "y_train_pred = Logit.predict(X_train_std)\n",
    "y_test_pred = Logit.predict(X_test_std)\n",
    "\n",
    "from sklearn.metrics import accuracy_score\n",
    "print(accuracy_score(y_train,y_train_pred))  \n",
    "print(accuracy_score(y_test,y_test_pred))\n",
    "from sklearn.metrics import confusion_matrix\n",
    "print(confusion_matrix(y_test, y_test_pred))\n",
    "\n",
    "from sklearn.metrics import roc_auc_score\n",
    "score1 = roc_auc_score(y_train,y_train_pred)\n",
    "score2 = roc_auc_score(y_test, y_test_pred)\n",
    "\n",
    "print('훈련 ROC AUC Score: ', score1)\n",
    "print('테스트 ROC AUC Score: ', score2)"
   ]
  },
  {
   "cell_type": "code",
   "execution_count": 4,
   "metadata": {},
   "outputs": [
    {
     "name": "stdout",
     "output_type": "stream",
     "text": [
      "최적 하이퍼 파라미터: {'C': 0.1, 'penalty': 'l2', 'solver': 'lbfgs'} \n",
      "ROC AUC Score: 0.85\n"
     ]
    },
    {
     "name": "stderr",
     "output_type": "stream",
     "text": [
      "c:\\Users\\user\\anaconda3\\Lib\\site-packages\\sklearn\\model_selection\\_validation.py:547: FitFailedWarning: \n",
      "90 fits failed out of a total of 120.\n",
      "The score on these train-test partitions for these parameters will be set to nan.\n",
      "If these failures are not expected, you can try to debug them by setting error_score='raise'.\n",
      "\n",
      "Below are more details about the failures:\n",
      "--------------------------------------------------------------------------------\n",
      "60 fits failed with the following error:\n",
      "Traceback (most recent call last):\n",
      "  File \"c:\\Users\\user\\anaconda3\\Lib\\site-packages\\sklearn\\model_selection\\_validation.py\", line 895, in _fit_and_score\n",
      "    estimator.fit(X_train, y_train, **fit_params)\n",
      "  File \"c:\\Users\\user\\anaconda3\\Lib\\site-packages\\sklearn\\base.py\", line 1467, in wrapper\n",
      "    estimator._validate_params()\n",
      "  File \"c:\\Users\\user\\anaconda3\\Lib\\site-packages\\sklearn\\base.py\", line 666, in _validate_params\n",
      "    validate_parameter_constraints(\n",
      "  File \"c:\\Users\\user\\anaconda3\\Lib\\site-packages\\sklearn\\utils\\_param_validation.py\", line 95, in validate_parameter_constraints\n",
      "    raise InvalidParameterError(\n",
      "sklearn.utils._param_validation.InvalidParameterError: The 'solver' parameter of LogisticRegression must be a str among {'newton-cg', 'liblinear', 'lbfgs', 'newton-cholesky', 'saga', 'sag'}. Got 'libinear' instead.\n",
      "\n",
      "--------------------------------------------------------------------------------\n",
      "30 fits failed with the following error:\n",
      "Traceback (most recent call last):\n",
      "  File \"c:\\Users\\user\\anaconda3\\Lib\\site-packages\\sklearn\\model_selection\\_validation.py\", line 895, in _fit_and_score\n",
      "    estimator.fit(X_train, y_train, **fit_params)\n",
      "  File \"c:\\Users\\user\\anaconda3\\Lib\\site-packages\\sklearn\\base.py\", line 1474, in wrapper\n",
      "    return fit_method(estimator, *args, **kwargs)\n",
      "           ^^^^^^^^^^^^^^^^^^^^^^^^^^^^^^^^^^^^^^\n",
      "  File \"c:\\Users\\user\\anaconda3\\Lib\\site-packages\\sklearn\\linear_model\\_logistic.py\", line 1172, in fit\n",
      "    solver = _check_solver(self.solver, self.penalty, self.dual)\n",
      "             ^^^^^^^^^^^^^^^^^^^^^^^^^^^^^^^^^^^^^^^^^^^^^^^^^^^\n",
      "  File \"c:\\Users\\user\\anaconda3\\Lib\\site-packages\\sklearn\\linear_model\\_logistic.py\", line 67, in _check_solver\n",
      "    raise ValueError(\n",
      "ValueError: Solver lbfgs supports only 'l2' or None penalties, got l1 penalty.\n",
      "\n",
      "  warnings.warn(some_fits_failed_message, FitFailedWarning)\n",
      "c:\\Users\\user\\anaconda3\\Lib\\site-packages\\sklearn\\model_selection\\_search.py:1051: UserWarning: One or more of the test scores are non-finite: [       nan        nan        nan 0.84936288        nan        nan\n",
      "        nan 0.8499723         nan        nan        nan 0.84781163\n",
      "        nan        nan        nan 0.8467313         nan        nan\n",
      "        nan 0.84562327        nan        nan        nan 0.84448753]\n",
      "  warnings.warn(\n"
     ]
    }
   ],
   "source": [
    "from sklearn.model_selection import GridSearchCV\n",
    "params = {'solver' : ['libinear','lbfgs'], 'penalty':['l1','l2'],\n",
    "          'C' : [0.01,0.1,1,5,10,100]}\n",
    "lrc = LogisticRegression()\n",
    "\n",
    "lrc_grid = GridSearchCV(lrc, param_grid = params, scoring='roc_auc', cv = 5)\n",
    "\n",
    "lrc_grid.fit(X_train_std, y_train)\n",
    "\n",
    "print('최적 하이퍼 파라미터:', lrc_grid.best_params_, '\\nROC AUC Score:', round(lrc_grid.best_score_, 4))"
   ]
  },
  {
   "cell_type": "code",
   "execution_count": null,
   "metadata": {},
   "outputs": [],
   "source": []
  }
 ],
 "metadata": {
  "kernelspec": {
   "display_name": "base",
   "language": "python",
   "name": "python3"
  },
  "language_info": {
   "codemirror_mode": {
    "name": "ipython",
    "version": 3
   },
   "file_extension": ".py",
   "mimetype": "text/x-python",
   "name": "python",
   "nbconvert_exporter": "python",
   "pygments_lexer": "ipython3",
   "version": "3.12.4"
  }
 },
 "nbformat": 4,
 "nbformat_minor": 2
}

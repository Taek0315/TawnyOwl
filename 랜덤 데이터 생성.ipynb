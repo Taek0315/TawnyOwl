{
 "cells": [
  {
   "cell_type": "code",
   "execution_count": null,
   "metadata": {},
   "outputs": [],
   "source": [
    "##랜덤 파일 생성 코드\n",
    "\n",
    "\n",
    "import pandas as pd\n",
    "import random\n",
    "regions = ['한국']\n",
    "schools = ['행과고']\n",
    "grades = [1, 2, 3]\n",
    "classes = list(range(1, 6))\n",
    "numbers = list(range(1, 31))\n",
    "genders = [1, 2]  # Assuming 1 = Male, 2 = Female\n",
    "names = ['홍길동']\n",
    "A_columns = [f'Int_{i}' for i in range(1, 25)]\n",
    "B_columns = [f'P_{i}' for i in range(1, 31)]\n",
    "C_columns = [f'Apt_{i}' for i in range(1, 61)]\n",
    "D_columns = [f'EJ_{i}' for i in range(1, 31)]\n",
    "E_columns = [f'pre_{i}' for i in range(1, 61)]\n",
    "test_date = ['2024-11-29']\n",
    "\n",
    "# Generate 100 random entries\n",
    "random_data = []\n",
    "for _ in range(100000):\n",
    "    entry = {\n",
    "        '지역': regions,\n",
    "        '학교명': schools,\n",
    "        '학년': random.choice(grades),\n",
    "        '반': random.choice(classes),\n",
    "        '번호': random.choice(numbers),\n",
    "        '성별': random.choice(genders),\n",
    "        '성명': names,\n",
    "        '검사일': test_date,\n",
    "    }\n",
    "    # Random scores for A, B, C, D, E columns\n",
    "    entry.update({col: random.randint(1, 4) for col in A_columns})\n",
    "    entry.update({col: random.randint(0, 2) for col in B_columns})\n",
    "    entry.update({col: random.randint(0, 2) for col in C_columns})\n",
    "    entry.update({col: random.randint(0, 2) for col in D_columns})\n",
    "    entry.update({col: random.randint(0, 2) for col in E_columns})\n",
    "    random_data.append(entry)\n",
    "\n",
    "# Create DataFrame\n",
    "df = pd.DataFrame(random_data)\n",
    "df.to_excel(\"C:\\\\Users\\\\user\\\\Desktop\\\\연구사업부\\\\code\\\\CET logic\\\\example_0324(2).xlsx\", index=False)"
   ]
  }
 ],
 "metadata": {
  "language_info": {
   "name": "python"
  }
 },
 "nbformat": 4,
 "nbformat_minor": 2
}
